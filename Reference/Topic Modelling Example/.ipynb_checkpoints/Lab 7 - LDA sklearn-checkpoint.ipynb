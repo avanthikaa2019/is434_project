{
 "cells": [
  {
   "cell_type": "markdown",
   "metadata": {},
   "source": [
    "# IS450\n",
    "\n",
    "## LDA - Sklearn\n",
    "\n",
    "### Objectives \n",
    "\n",
    "-   Use sklearn to apply LDA on a large corpus.\n",
    "-   Study the outputs Topics\n",
    "-   Visualizations\n",
    "-   Quality of the LDA model \n",
    "-   LDA Evaluations \n",
    "-   How to find the best number of K?\n",
    "-   How to find the most dominant topic in each document?\n",
    "-   Save the model (model for future use and the dstirbutions for the analysis)\n",
    "-   Exercise - Run the saved model on new data set and analyse results"
   ]
  },
  {
   "cell_type": "markdown",
   "metadata": {},
   "source": [
    "### Latent Dirichlet Allocation with sklearn\n",
    "\n",
    "The first part of this lab shows you how to use sklearn to perform Latent\n",
    "Dirichlet Allocation (LDA). We need to load a large corpus for\n",
    "performing LDA. You can download the data set `SGNews` from eLearn under the project page\n",
    "(because this data set is one of the data sets we have provided for your group project). This\n",
    "corpus contains over 7000 documents.\n",
    "\n",
    "We will use a slightly different version\n",
    "of preprocessing functions. You will see the file `preprocess2.py`\n",
    "inside the directory that contains this Jupyter notebook. \n",
    "We will use the functions from `preprocess2` to load the corpus,\n",
    "tokenize the text and remove stop words. \n",
    "Note the following differences in our preprocessing steps:\n",
    "- We have added additional words to the stop word list.\n",
    "- We do not perform stemming here. There are two reasons for this: (1) Later we would like to inspect the learned topics and check their meanings. So keeping the original words would make it easier for the inspection. (2) When we have a large corpus, it becomes less important to perform stemming.\n",
    "- Note that for LDA analysis, the document vectors we use should not be weighted by IDF values.\n",
    "\n",
    "The code below shows the steps of processing the corpus. Note that\n",
    "`corpus2docs` will take a while to run because the corpus is large.\n"
   ]
  },
  {
   "cell_type": "code",
   "execution_count": 5,
   "metadata": {
    "collapsed": true
   },
   "outputs": [],
   "source": [
    "from sklearn.decomposition import LatentDirichletAllocation\n",
    "from sklearn.feature_extraction.text import CountVectorizer"
   ]
  },
  {
   "cell_type": "code",
   "execution_count": 2,
   "metadata": {},
   "outputs": [
    {
     "name": "stderr",
     "output_type": "stream",
     "text": [
      "C:\\Users\\swapnag\\AppData\\Local\\Continuum\\anaconda3\\lib\\site-packages\\gensim\\utils.py:1197: UserWarning: detected Windows; aliasing chunkize to chunkize_serial\n",
      "  warnings.warn(\"detected Windows; aliasing chunkize to chunkize_serial\")\n"
     ]
    }
   ],
   "source": [
    "import preprocess2\n",
    "sg_corpus = preprocess2.load_corpus('./SGNews')\n",
    "sg_docs = preprocess2.corpus2docs(sg_corpus)\n",
    "sg_docs_joined = [\" \".join(x) for x in sg_docs]  #joined to fit vectorizer"
   ]
  },
  {
   "cell_type": "code",
   "execution_count": 3,
   "metadata": {
    "collapsed": true
   },
   "outputs": [],
   "source": [
    "# CountVectorizer converts the text documents to a matrix of token counts\n",
    "vectorizer = CountVectorizer()\n",
    "sg_vecs = vectorizer.fit_transform(sg_docs_joined)\n",
    "\n",
    "# get_feature_names saves all the words. This allows us to see the words in each topic later\n",
    "feature_names = vectorizer.get_feature_names()"
   ]
  },
  {
   "cell_type": "markdown",
   "metadata": {},
   "source": [
    "Now we are ready to perform LDA on the document vectors `sg_vecs`.\n",
    "The code below shows how to build the model. Note that this will\n",
    "also take a while to finish."
   ]
  },
  {
   "cell_type": "code",
   "execution_count": 4,
   "metadata": {
    "collapsed": true
   },
   "outputs": [],
   "source": [
    "# Build LDA Model\n",
    "sg_lda = LatentDirichletAllocation(n_components=10,               # Number of topics\n",
    "                                      learning_method='online',   \n",
    "                                      n_jobs = -1)              # use all available CPU\n",
    "lda_output = sg_lda.fit_transform(sg_vecs)"
   ]
  },
  {
   "cell_type": "markdown",
   "metadata": {},
   "source": [
    "The variable `sg_lda` now stores the 10 learned topics.\n",
    "\n",
    "To inspect these learned topics, we can write a function called `display_topics`.\n",
    "This function allows us to specifiy the topics we want to inspect and for each topic how many top words we want to include.\n",
    "Let us use `display_topics(sg_lda, feature_names, 15)` to choose all 10 topics and for each topic we choose the top-15 most frequent words.\n",
    "Then we can display the topics one by one. For each topic, we see a list of words together with their probabilities shown."
   ]
  },
  {
   "cell_type": "code",
   "execution_count": 6,
   "metadata": {},
   "outputs": [
    {
     "name": "stdout",
     "output_type": "stream",
     "text": [
      "Topic 0:\n",
      "win team game league time back second final years club players season former football london\n",
      "Topic 1:\n",
      "china us obama states chinese president south united philippines washington romney sea india foreign beijing\n",
      "Topic 2:\n",
      "police man found mr arrested reported years court woman hospital men car officers four case\n",
      "Topic 3:\n",
      "government president ldquo syria killed rdquo security minister country military political syrian forces un state\n",
      "Topic 4:\n",
      "per cent government billion million market minister economic growth country economy companies business company according\n",
      "Topic 5:\n",
      "music show film fans singer concert movie love star best tv lady album band songs\n",
      "Topic 6:\n",
      "us time china years many even get work made chinese make take group says around\n",
      "Topic 7:\n",
      "court bo case party former scandal wang judge church trial news accused investigation british charges\n",
      "Topic 8:\n",
      "japan chelsea tokyo tsunami earthquake quake japanese prefecture bayern coast area arsenal species town team\n",
      "Topic 9:\n",
      "korea north south nuclear kim korean launch space seoul iran russia rocket missile russian air\n"
     ]
    }
   ],
   "source": [
    "# write a function to display the 10 topics and for each topic we choose the top most frequent words. \n",
    "def display_topics(model, feature_names, no_top_words):\n",
    "    for topic_idx, topic in enumerate(model.components_):\n",
    "        print(\"Topic %d:\" % (topic_idx))\n",
    "        print(\" \".join([feature_names[i] for i in topic.argsort()[:-no_top_words - 1:-1]]))\n",
    "\n",
    "no_top_words = 15\n",
    "display_topics(sg_lda, feature_names, 15)"
   ]
  },
  {
   "cell_type": "markdown",
   "metadata": {},
   "source": [
    "#### Analyse the output\n",
    "- By looking at the most important words under each topic, do you find the topics meaningful? How would you summarize or label each topic?\n",
    "\n",
    "- If you re-run the LDA code above, you'll get a different set of topics. This is because there is some randomness in the LDA algorithm. Try to re-run the code above to re-generate `sg_lda` and insepct the learned topics again.\n",
    "\n",
    "- The code above sets the number of topics to 50. You can try different numbers of topics (e.g., 5, 10, etc.) and see what the results look like.\n"
   ]
  },
  {
   "cell_type": "markdown",
   "metadata": {},
   "source": [
    "### Visualizations\n",
    "\n",
    "pyLDAvis is a python libarary for interactive topic model visualization. It is a port of the fabulous R package by Carson Sievert and Kenny Shirley. They did the hard work of crafting an effective visualization. pyLDAvis makes it easy to use the visualiziation from Python and, in particular, Jupyter notebooks. \n",
    "\n",
    "https://nbviewer.jupyter.org/github/bmabey/pyLDAvis/blob/master/notebooks/pyLDAvis_overview.ipynb#topic=0&lambda=1&term=\n"
   ]
  },
  {
   "cell_type": "code",
   "execution_count": 7,
   "metadata": {},
   "outputs": [],
   "source": [
    "#Install the package\n",
    "#!pip install pyldavis"
   ]
  },
  {
   "cell_type": "code",
   "execution_count": 8,
   "metadata": {
    "collapsed": true
   },
   "outputs": [],
   "source": [
    "#Set up the environment to display the graphical outputs\n",
    "import pyLDAvis\n",
    "import pyLDAvis.sklearn\n",
    "pyLDAvis.enable_notebook()"
   ]
  },
  {
   "cell_type": "code",
   "execution_count": 9,
   "metadata": {},
   "outputs": [
    {
     "name": "stderr",
     "output_type": "stream",
     "text": [
      "C:\\Users\\swapnag\\AppData\\Local\\Continuum\\anaconda3\\lib\\site-packages\\pyLDAvis\\_prepare.py:257: FutureWarning: Sorting because non-concatenation axis is not aligned. A future version\n",
      "of pandas will change to not sort by default.\n",
      "\n",
      "To accept the future behavior, pass 'sort=False'.\n",
      "\n",
      "To retain the current behavior and silence the warning, pass 'sort=True'.\n",
      "\n",
      "  return pd.concat([default_term_info] + list(topic_dfs))\n"
     ]
    }
   ],
   "source": [
    "# Generate the visuals\n",
    "visual = pyLDAvis.sklearn.prepare(sg_lda, sg_vecs, vectorizer, mds='tsne')"
   ]
  },
  {
   "cell_type": "markdown",
   "metadata": {},
   "source": [
    "### Store the outout and analsyse the results"
   ]
  },
  {
   "cell_type": "code",
   "execution_count": 10,
   "metadata": {
    "collapsed": true
   },
   "outputs": [],
   "source": [
    "#Save the output|to the html file\n",
    "pyLDAvis.save_html(visual, \"topic_viz_sklearn.html\")"
   ]
  },
  {
   "cell_type": "markdown",
   "metadata": {},
   "source": [
    "## Additional  Concepts \n",
    "\n",
    "### Perplexity Score\n",
    "\n",
    "Perplexity scoring provide a convenient measure to judge how good a given topic model\n"
   ]
  },
  {
   "cell_type": "code",
   "execution_count": 11,
   "metadata": {},
   "outputs": [
    {
     "name": "stdout",
     "output_type": "stream",
     "text": [
      "Perplexity:  6687.4639113774765\n"
     ]
    }
   ],
   "source": [
    "# Compute Perplexity - Lower the better. Perplexity = exp(-1. * log-likelihood per word)\n",
    "print(\"Perplexity: \", sg_lda.perplexity(sg_vecs))"
   ]
  },
  {
   "cell_type": "markdown",
   "metadata": {},
   "source": [
    "### How to choose the optimal number of the topics?\n",
    "\n",
    "On approach to finding the optimal number of topics is to build many LDA models with different values of number of topics (k) and pick the one that gives the best performance.\n",
    "\n",
    "Choosing a ‘k’ that marks the end of a rapid growth of topic coherence usually offers meaningful and interpretable topics. Picking an even higher value can sometimes provide more granular sub-topics.\n",
    "\n",
    "If you see the same keywords being repeated in multiple topics, it’s probably a sign that the ‘k’ is too large.\n"
   ]
  },
  {
   "cell_type": "code",
   "execution_count": 12,
   "metadata": {},
   "outputs": [
    {
     "name": "stdout",
     "output_type": "stream",
     "text": [
      "2020-02-21 14:38:42.396532\n",
      "#Topics: 2, Score: 7635.437404453568\n",
      "#Topics: 4, Score: 6895.447283977887\n",
      "#Topics: 6, Score: 6782.607738341258\n",
      "#Topics: 8, Score: 6808.726153645089\n",
      "#Topics: 10, Score: 6743.879177562796\n",
      "#Topics: 12, Score: 6868.160972140542\n",
      "2020-02-21 14:50:41.934771\n"
     ]
    }
   ],
   "source": [
    "# Can take a long time to run. In this case we are going to k_max=14.\n",
    "import datetime\n",
    "print(datetime.datetime.now())\n",
    "\n",
    "from gensim.models import CoherenceModel\n",
    "\n",
    "model_list = []\n",
    "perplexity_values = []\n",
    "model_topics = []\n",
    "\n",
    "for num_topics in range(2, 14, 2):\n",
    "    sg_lda_x = LatentDirichletAllocation(n_components=num_topics, learning_method='online', n_jobs = -1)\n",
    "    sg_lda_x.fit_transform(sg_vecs)\n",
    "    model_topics.append(num_topics)\n",
    "    model_list.append(sg_lda_x)\n",
    "    perplexity_values.append(sg_lda_x.perplexity(sg_vecs))\n",
    "    print(\"#Topics: \" + str(num_topics) + \", Score: \" + str(sg_lda_x.perplexity(sg_vecs)))\n",
    "\n",
    "print(datetime.datetime.now())"
   ]
  },
  {
   "cell_type": "markdown",
   "metadata": {},
   "source": [
    "### Graphical Representation of the Coherence Score\n",
    "\n",
    "Pyplot is a python library that provides functions to plot the graphs. In our case, we want to plot the graph with num of topics Vs Coherence scores of the model. \n"
   ]
  },
  {
   "cell_type": "code",
   "execution_count": 286,
   "metadata": {},
   "outputs": [
    {
     "data": {
      "image/png": "[encoded data removed]",
      "text/plain": [
       "<Figure size 432x288 with 1 Axes>"
      ]
     },
     "metadata": {
      "needs_background": "light"
     },
     "output_type": "display_data"
    }
   ],
   "source": [
    "# Show graph\n",
    "\n",
    "import matplotlib.pyplot as plt\n",
    "\n",
    "limit=14; start=2; step=2;\n",
    "x = range(start, limit, step)\n",
    "plt.plot(x, perplexity_values)\n",
    "plt.xlabel(\"Num Topics\")\n",
    "plt.ylabel(\"perplexity score\")\n",
    "plt.legend((\"perplexity_values\"), loc='best')\n",
    "plt.show()"
   ]
  },
  {
   "cell_type": "markdown",
   "metadata": {},
   "source": [
    "###  Most Dominant Topic for each Document\n",
    "\n",
    "One of the practical application of topic modeling is to determine what topic a given document is about.\n",
    "\n",
    "To find that, we find the topic number that has the highest percentage contribution in that document. We need to first decide on the optimal LDA model from the previous graph "
   ]
  },
  {
   "cell_type": "code",
   "execution_count": 288,
   "metadata": {},
   "outputs": [
    {
     "data": {
      "text/html": [
       "<style  type=\"text/css\" >\n",
       "    #T_69346043_534f_11ea_b190_f523e9aa0561row0_col0 {\n",
       "            color:  black;\n",
       "            font-weight:  400;\n",
       "        }    #T_69346043_534f_11ea_b190_f523e9aa0561row0_col1 {\n",
       "            color:  black;\n",
       "            font-weight:  400;\n",
       "        }    #T_69346043_534f_11ea_b190_f523e9aa0561row0_col2 {\n",
       "            color:  black;\n",
       "            font-weight:  400;\n",
       "        }    #T_69346043_534f_11ea_b190_f523e9aa0561row0_col3 {\n",
       "            color:  black;\n",
       "            font-weight:  400;\n",
       "        }    #T_69346043_534f_11ea_b190_f523e9aa0561row0_col4 {\n",
       "            color:  green;\n",
       "            font-weight:  700;\n",
       "        }    #T_69346043_534f_11ea_b190_f523e9aa0561row0_col5 {\n",
       "            color:  green;\n",
       "            font-weight:  700;\n",
       "        }    #T_69346043_534f_11ea_b190_f523e9aa0561row0_col6 {\n",
       "            color:  green;\n",
       "            font-weight:  700;\n",
       "        }    #T_69346043_534f_11ea_b190_f523e9aa0561row1_col0 {\n",
       "            color:  black;\n",
       "            font-weight:  400;\n",
       "        }    #T_69346043_534f_11ea_b190_f523e9aa0561row1_col1 {\n",
       "            color:  black;\n",
       "            font-weight:  400;\n",
       "        }    #T_69346043_534f_11ea_b190_f523e9aa0561row1_col2 {\n",
       "            color:  black;\n",
       "            font-weight:  400;\n",
       "        }    #T_69346043_534f_11ea_b190_f523e9aa0561row1_col3 {\n",
       "            color:  black;\n",
       "            font-weight:  400;\n",
       "        }    #T_69346043_534f_11ea_b190_f523e9aa0561row1_col4 {\n",
       "            color:  black;\n",
       "            font-weight:  400;\n",
       "        }    #T_69346043_534f_11ea_b190_f523e9aa0561row1_col5 {\n",
       "            color:  green;\n",
       "            font-weight:  700;\n",
       "        }    #T_69346043_534f_11ea_b190_f523e9aa0561row1_col6 {\n",
       "            color:  green;\n",
       "            font-weight:  700;\n",
       "        }    #T_69346043_534f_11ea_b190_f523e9aa0561row2_col0 {\n",
       "            color:  green;\n",
       "            font-weight:  700;\n",
       "        }    #T_69346043_534f_11ea_b190_f523e9aa0561row2_col1 {\n",
       "            color:  black;\n",
       "            font-weight:  400;\n",
       "        }    #T_69346043_534f_11ea_b190_f523e9aa0561row2_col2 {\n",
       "            color:  black;\n",
       "            font-weight:  400;\n",
       "        }    #T_69346043_534f_11ea_b190_f523e9aa0561row2_col3 {\n",
       "            color:  green;\n",
       "            font-weight:  700;\n",
       "        }    #T_69346043_534f_11ea_b190_f523e9aa0561row2_col4 {\n",
       "            color:  black;\n",
       "            font-weight:  400;\n",
       "        }    #T_69346043_534f_11ea_b190_f523e9aa0561row2_col5 {\n",
       "            color:  green;\n",
       "            font-weight:  700;\n",
       "        }    #T_69346043_534f_11ea_b190_f523e9aa0561row2_col6 {\n",
       "            color:  green;\n",
       "            font-weight:  700;\n",
       "        }    #T_69346043_534f_11ea_b190_f523e9aa0561row3_col0 {\n",
       "            color:  black;\n",
       "            font-weight:  400;\n",
       "        }    #T_69346043_534f_11ea_b190_f523e9aa0561row3_col1 {\n",
       "            color:  black;\n",
       "            font-weight:  400;\n",
       "        }    #T_69346043_534f_11ea_b190_f523e9aa0561row3_col2 {\n",
       "            color:  black;\n",
       "            font-weight:  400;\n",
       "        }    #T_69346043_534f_11ea_b190_f523e9aa0561row3_col3 {\n",
       "            color:  green;\n",
       "            font-weight:  700;\n",
       "        }    #T_69346043_534f_11ea_b190_f523e9aa0561row3_col4 {\n",
       "            color:  black;\n",
       "            font-weight:  400;\n",
       "        }    #T_69346043_534f_11ea_b190_f523e9aa0561row3_col5 {\n",
       "            color:  green;\n",
       "            font-weight:  700;\n",
       "        }    #T_69346043_534f_11ea_b190_f523e9aa0561row3_col6 {\n",
       "            color:  green;\n",
       "            font-weight:  700;\n",
       "        }    #T_69346043_534f_11ea_b190_f523e9aa0561row4_col0 {\n",
       "            color:  green;\n",
       "            font-weight:  700;\n",
       "        }    #T_69346043_534f_11ea_b190_f523e9aa0561row4_col1 {\n",
       "            color:  black;\n",
       "            font-weight:  400;\n",
       "        }    #T_69346043_534f_11ea_b190_f523e9aa0561row4_col2 {\n",
       "            color:  black;\n",
       "            font-weight:  400;\n",
       "        }    #T_69346043_534f_11ea_b190_f523e9aa0561row4_col3 {\n",
       "            color:  green;\n",
       "            font-weight:  700;\n",
       "        }    #T_69346043_534f_11ea_b190_f523e9aa0561row4_col4 {\n",
       "            color:  black;\n",
       "            font-weight:  400;\n",
       "        }    #T_69346043_534f_11ea_b190_f523e9aa0561row4_col5 {\n",
       "            color:  green;\n",
       "            font-weight:  700;\n",
       "        }    #T_69346043_534f_11ea_b190_f523e9aa0561row4_col6 {\n",
       "            color:  green;\n",
       "            font-weight:  700;\n",
       "        }    #T_69346043_534f_11ea_b190_f523e9aa0561row5_col0 {\n",
       "            color:  green;\n",
       "            font-weight:  700;\n",
       "        }    #T_69346043_534f_11ea_b190_f523e9aa0561row5_col1 {\n",
       "            color:  black;\n",
       "            font-weight:  400;\n",
       "        }    #T_69346043_534f_11ea_b190_f523e9aa0561row5_col2 {\n",
       "            color:  black;\n",
       "            font-weight:  400;\n",
       "        }    #T_69346043_534f_11ea_b190_f523e9aa0561row5_col3 {\n",
       "            color:  green;\n",
       "            font-weight:  700;\n",
       "        }    #T_69346043_534f_11ea_b190_f523e9aa0561row5_col4 {\n",
       "            color:  black;\n",
       "            font-weight:  400;\n",
       "        }    #T_69346043_534f_11ea_b190_f523e9aa0561row5_col5 {\n",
       "            color:  green;\n",
       "            font-weight:  700;\n",
       "        }    #T_69346043_534f_11ea_b190_f523e9aa0561row5_col6 {\n",
       "            color:  green;\n",
       "            font-weight:  700;\n",
       "        }    #T_69346043_534f_11ea_b190_f523e9aa0561row6_col0 {\n",
       "            color:  black;\n",
       "            font-weight:  400;\n",
       "        }    #T_69346043_534f_11ea_b190_f523e9aa0561row6_col1 {\n",
       "            color:  black;\n",
       "            font-weight:  400;\n",
       "        }    #T_69346043_534f_11ea_b190_f523e9aa0561row6_col2 {\n",
       "            color:  black;\n",
       "            font-weight:  400;\n",
       "        }    #T_69346043_534f_11ea_b190_f523e9aa0561row6_col3 {\n",
       "            color:  black;\n",
       "            font-weight:  400;\n",
       "        }    #T_69346043_534f_11ea_b190_f523e9aa0561row6_col4 {\n",
       "            color:  black;\n",
       "            font-weight:  400;\n",
       "        }    #T_69346043_534f_11ea_b190_f523e9aa0561row6_col5 {\n",
       "            color:  green;\n",
       "            font-weight:  700;\n",
       "        }    #T_69346043_534f_11ea_b190_f523e9aa0561row6_col6 {\n",
       "            color:  green;\n",
       "            font-weight:  700;\n",
       "        }    #T_69346043_534f_11ea_b190_f523e9aa0561row7_col0 {\n",
       "            color:  black;\n",
       "            font-weight:  400;\n",
       "        }    #T_69346043_534f_11ea_b190_f523e9aa0561row7_col1 {\n",
       "            color:  black;\n",
       "            font-weight:  400;\n",
       "        }    #T_69346043_534f_11ea_b190_f523e9aa0561row7_col2 {\n",
       "            color:  black;\n",
       "            font-weight:  400;\n",
       "        }    #T_69346043_534f_11ea_b190_f523e9aa0561row7_col3 {\n",
       "            color:  black;\n",
       "            font-weight:  400;\n",
       "        }    #T_69346043_534f_11ea_b190_f523e9aa0561row7_col4 {\n",
       "            color:  black;\n",
       "            font-weight:  400;\n",
       "        }    #T_69346043_534f_11ea_b190_f523e9aa0561row7_col5 {\n",
       "            color:  green;\n",
       "            font-weight:  700;\n",
       "        }    #T_69346043_534f_11ea_b190_f523e9aa0561row7_col6 {\n",
       "            color:  green;\n",
       "            font-weight:  700;\n",
       "        }    #T_69346043_534f_11ea_b190_f523e9aa0561row8_col0 {\n",
       "            color:  black;\n",
       "            font-weight:  400;\n",
       "        }    #T_69346043_534f_11ea_b190_f523e9aa0561row8_col1 {\n",
       "            color:  black;\n",
       "            font-weight:  400;\n",
       "        }    #T_69346043_534f_11ea_b190_f523e9aa0561row8_col2 {\n",
       "            color:  black;\n",
       "            font-weight:  400;\n",
       "        }    #T_69346043_534f_11ea_b190_f523e9aa0561row8_col3 {\n",
       "            color:  green;\n",
       "            font-weight:  700;\n",
       "        }    #T_69346043_534f_11ea_b190_f523e9aa0561row8_col4 {\n",
       "            color:  black;\n",
       "            font-weight:  400;\n",
       "        }    #T_69346043_534f_11ea_b190_f523e9aa0561row8_col5 {\n",
       "            color:  green;\n",
       "            font-weight:  700;\n",
       "        }    #T_69346043_534f_11ea_b190_f523e9aa0561row8_col6 {\n",
       "            color:  green;\n",
       "            font-weight:  700;\n",
       "        }    #T_69346043_534f_11ea_b190_f523e9aa0561row9_col0 {\n",
       "            color:  black;\n",
       "            font-weight:  400;\n",
       "        }    #T_69346043_534f_11ea_b190_f523e9aa0561row9_col1 {\n",
       "            color:  black;\n",
       "            font-weight:  400;\n",
       "        }    #T_69346043_534f_11ea_b190_f523e9aa0561row9_col2 {\n",
       "            color:  black;\n",
       "            font-weight:  400;\n",
       "        }    #T_69346043_534f_11ea_b190_f523e9aa0561row9_col3 {\n",
       "            color:  green;\n",
       "            font-weight:  700;\n",
       "        }    #T_69346043_534f_11ea_b190_f523e9aa0561row9_col4 {\n",
       "            color:  black;\n",
       "            font-weight:  400;\n",
       "        }    #T_69346043_534f_11ea_b190_f523e9aa0561row9_col5 {\n",
       "            color:  black;\n",
       "            font-weight:  400;\n",
       "        }    #T_69346043_534f_11ea_b190_f523e9aa0561row9_col6 {\n",
       "            color:  green;\n",
       "            font-weight:  700;\n",
       "        }</style><table id=\"T_69346043_534f_11ea_b190_f523e9aa0561\" ><thead>    <tr>        <th class=\"blank level0\" ></th>        <th class=\"col_heading level0 col0\" >Topic0</th>        <th class=\"col_heading level0 col1\" >Topic1</th>        <th class=\"col_heading level0 col2\" >Topic2</th>        <th class=\"col_heading level0 col3\" >Topic3</th>        <th class=\"col_heading level0 col4\" >Topic4</th>        <th class=\"col_heading level0 col5\" >Topic5</th>        <th class=\"col_heading level0 col6\" >dominant_topic</th>    </tr></thead><tbody>\n",
       "                <tr>\n",
       "                        <th id=\"T_69346043_534f_11ea_b190_f523e9aa0561level0_row0\" class=\"row_heading level0 row0\" >Doc0</th>\n",
       "                        <td id=\"T_69346043_534f_11ea_b190_f523e9aa0561row0_col0\" class=\"data row0 col0\" >0.000590</td>\n",
       "                        <td id=\"T_69346043_534f_11ea_b190_f523e9aa0561row0_col1\" class=\"data row0 col1\" >0.000590</td>\n",
       "                        <td id=\"T_69346043_534f_11ea_b190_f523e9aa0561row0_col2\" class=\"data row0 col2\" >0.000590</td>\n",
       "                        <td id=\"T_69346043_534f_11ea_b190_f523e9aa0561row0_col3\" class=\"data row0 col3\" >0.099900</td>\n",
       "                        <td id=\"T_69346043_534f_11ea_b190_f523e9aa0561row0_col4\" class=\"data row0 col4\" >0.385470</td>\n",
       "                        <td id=\"T_69346043_534f_11ea_b190_f523e9aa0561row0_col5\" class=\"data row0 col5\" >0.512850</td>\n",
       "                        <td id=\"T_69346043_534f_11ea_b190_f523e9aa0561row0_col6\" class=\"data row0 col6\" >5</td>\n",
       "            </tr>\n",
       "            <tr>\n",
       "                        <th id=\"T_69346043_534f_11ea_b190_f523e9aa0561level0_row1\" class=\"row_heading level0 row1\" >Doc1</th>\n",
       "                        <td id=\"T_69346043_534f_11ea_b190_f523e9aa0561row1_col0\" class=\"data row1 col0\" >0.036600</td>\n",
       "                        <td id=\"T_69346043_534f_11ea_b190_f523e9aa0561row1_col1\" class=\"data row1 col1\" >0.000550</td>\n",
       "                        <td id=\"T_69346043_534f_11ea_b190_f523e9aa0561row1_col2\" class=\"data row1 col2\" >0.000550</td>\n",
       "                        <td id=\"T_69346043_534f_11ea_b190_f523e9aa0561row1_col3\" class=\"data row1 col3\" >0.048720</td>\n",
       "                        <td id=\"T_69346043_534f_11ea_b190_f523e9aa0561row1_col4\" class=\"data row1 col4\" >0.000550</td>\n",
       "                        <td id=\"T_69346043_534f_11ea_b190_f523e9aa0561row1_col5\" class=\"data row1 col5\" >0.913020</td>\n",
       "                        <td id=\"T_69346043_534f_11ea_b190_f523e9aa0561row1_col6\" class=\"data row1 col6\" >5</td>\n",
       "            </tr>\n",
       "            <tr>\n",
       "                        <th id=\"T_69346043_534f_11ea_b190_f523e9aa0561level0_row2\" class=\"row_heading level0 row2\" >Doc2</th>\n",
       "                        <td id=\"T_69346043_534f_11ea_b190_f523e9aa0561row2_col0\" class=\"data row2 col0\" >0.355340</td>\n",
       "                        <td id=\"T_69346043_534f_11ea_b190_f523e9aa0561row2_col1\" class=\"data row2 col1\" >0.000660</td>\n",
       "                        <td id=\"T_69346043_534f_11ea_b190_f523e9aa0561row2_col2\" class=\"data row2 col2\" >0.000660</td>\n",
       "                        <td id=\"T_69346043_534f_11ea_b190_f523e9aa0561row2_col3\" class=\"data row2 col3\" >0.142500</td>\n",
       "                        <td id=\"T_69346043_534f_11ea_b190_f523e9aa0561row2_col4\" class=\"data row2 col4\" >0.000660</td>\n",
       "                        <td id=\"T_69346043_534f_11ea_b190_f523e9aa0561row2_col5\" class=\"data row2 col5\" >0.500180</td>\n",
       "                        <td id=\"T_69346043_534f_11ea_b190_f523e9aa0561row2_col6\" class=\"data row2 col6\" >5</td>\n",
       "            </tr>\n",
       "            <tr>\n",
       "                        <th id=\"T_69346043_534f_11ea_b190_f523e9aa0561level0_row3\" class=\"row_heading level0 row3\" >Doc3</th>\n",
       "                        <td id=\"T_69346043_534f_11ea_b190_f523e9aa0561row3_col0\" class=\"data row3 col0\" >0.002500</td>\n",
       "                        <td id=\"T_69346043_534f_11ea_b190_f523e9aa0561row3_col1\" class=\"data row3 col1\" >0.002510</td>\n",
       "                        <td id=\"T_69346043_534f_11ea_b190_f523e9aa0561row3_col2\" class=\"data row3 col2\" >0.002490</td>\n",
       "                        <td id=\"T_69346043_534f_11ea_b190_f523e9aa0561row3_col3\" class=\"data row3 col3\" >0.112140</td>\n",
       "                        <td id=\"T_69346043_534f_11ea_b190_f523e9aa0561row3_col4\" class=\"data row3 col4\" >0.002490</td>\n",
       "                        <td id=\"T_69346043_534f_11ea_b190_f523e9aa0561row3_col5\" class=\"data row3 col5\" >0.877880</td>\n",
       "                        <td id=\"T_69346043_534f_11ea_b190_f523e9aa0561row3_col6\" class=\"data row3 col6\" >5</td>\n",
       "            </tr>\n",
       "            <tr>\n",
       "                        <th id=\"T_69346043_534f_11ea_b190_f523e9aa0561level0_row4\" class=\"row_heading level0 row4\" >Doc4</th>\n",
       "                        <td id=\"T_69346043_534f_11ea_b190_f523e9aa0561row4_col0\" class=\"data row4 col0\" >0.112580</td>\n",
       "                        <td id=\"T_69346043_534f_11ea_b190_f523e9aa0561row4_col1\" class=\"data row4 col1\" >0.000680</td>\n",
       "                        <td id=\"T_69346043_534f_11ea_b190_f523e9aa0561row4_col2\" class=\"data row4 col2\" >0.000680</td>\n",
       "                        <td id=\"T_69346043_534f_11ea_b190_f523e9aa0561row4_col3\" class=\"data row4 col3\" >0.350640</td>\n",
       "                        <td id=\"T_69346043_534f_11ea_b190_f523e9aa0561row4_col4\" class=\"data row4 col4\" >0.000680</td>\n",
       "                        <td id=\"T_69346043_534f_11ea_b190_f523e9aa0561row4_col5\" class=\"data row4 col5\" >0.534740</td>\n",
       "                        <td id=\"T_69346043_534f_11ea_b190_f523e9aa0561row4_col6\" class=\"data row4 col6\" >5</td>\n",
       "            </tr>\n",
       "            <tr>\n",
       "                        <th id=\"T_69346043_534f_11ea_b190_f523e9aa0561level0_row5\" class=\"row_heading level0 row5\" >Doc5</th>\n",
       "                        <td id=\"T_69346043_534f_11ea_b190_f523e9aa0561row5_col0\" class=\"data row5 col0\" >0.324500</td>\n",
       "                        <td id=\"T_69346043_534f_11ea_b190_f523e9aa0561row5_col1\" class=\"data row5 col1\" >0.001410</td>\n",
       "                        <td id=\"T_69346043_534f_11ea_b190_f523e9aa0561row5_col2\" class=\"data row5 col2\" >0.001400</td>\n",
       "                        <td id=\"T_69346043_534f_11ea_b190_f523e9aa0561row5_col3\" class=\"data row5 col3\" >0.113450</td>\n",
       "                        <td id=\"T_69346043_534f_11ea_b190_f523e9aa0561row5_col4\" class=\"data row5 col4\" >0.001400</td>\n",
       "                        <td id=\"T_69346043_534f_11ea_b190_f523e9aa0561row5_col5\" class=\"data row5 col5\" >0.557830</td>\n",
       "                        <td id=\"T_69346043_534f_11ea_b190_f523e9aa0561row5_col6\" class=\"data row5 col6\" >5</td>\n",
       "            </tr>\n",
       "            <tr>\n",
       "                        <th id=\"T_69346043_534f_11ea_b190_f523e9aa0561level0_row6\" class=\"row_heading level0 row6\" >Doc6</th>\n",
       "                        <td id=\"T_69346043_534f_11ea_b190_f523e9aa0561row6_col0\" class=\"data row6 col0\" >0.000470</td>\n",
       "                        <td id=\"T_69346043_534f_11ea_b190_f523e9aa0561row6_col1\" class=\"data row6 col1\" >0.060390</td>\n",
       "                        <td id=\"T_69346043_534f_11ea_b190_f523e9aa0561row6_col2\" class=\"data row6 col2\" >0.000470</td>\n",
       "                        <td id=\"T_69346043_534f_11ea_b190_f523e9aa0561row6_col3\" class=\"data row6 col3\" >0.000480</td>\n",
       "                        <td id=\"T_69346043_534f_11ea_b190_f523e9aa0561row6_col4\" class=\"data row6 col4\" >0.000470</td>\n",
       "                        <td id=\"T_69346043_534f_11ea_b190_f523e9aa0561row6_col5\" class=\"data row6 col5\" >0.937720</td>\n",
       "                        <td id=\"T_69346043_534f_11ea_b190_f523e9aa0561row6_col6\" class=\"data row6 col6\" >5</td>\n",
       "            </tr>\n",
       "            <tr>\n",
       "                        <th id=\"T_69346043_534f_11ea_b190_f523e9aa0561level0_row7\" class=\"row_heading level0 row7\" >Doc7</th>\n",
       "                        <td id=\"T_69346043_534f_11ea_b190_f523e9aa0561row7_col0\" class=\"data row7 col0\" >0.091490</td>\n",
       "                        <td id=\"T_69346043_534f_11ea_b190_f523e9aa0561row7_col1\" class=\"data row7 col1\" >0.001100</td>\n",
       "                        <td id=\"T_69346043_534f_11ea_b190_f523e9aa0561row7_col2\" class=\"data row7 col2\" >0.001090</td>\n",
       "                        <td id=\"T_69346043_534f_11ea_b190_f523e9aa0561row7_col3\" class=\"data row7 col3\" >0.001100</td>\n",
       "                        <td id=\"T_69346043_534f_11ea_b190_f523e9aa0561row7_col4\" class=\"data row7 col4\" >0.001090</td>\n",
       "                        <td id=\"T_69346043_534f_11ea_b190_f523e9aa0561row7_col5\" class=\"data row7 col5\" >0.904130</td>\n",
       "                        <td id=\"T_69346043_534f_11ea_b190_f523e9aa0561row7_col6\" class=\"data row7 col6\" >5</td>\n",
       "            </tr>\n",
       "            <tr>\n",
       "                        <th id=\"T_69346043_534f_11ea_b190_f523e9aa0561level0_row8\" class=\"row_heading level0 row8\" >Doc8</th>\n",
       "                        <td id=\"T_69346043_534f_11ea_b190_f523e9aa0561row8_col0\" class=\"data row8 col0\" >0.000610</td>\n",
       "                        <td id=\"T_69346043_534f_11ea_b190_f523e9aa0561row8_col1\" class=\"data row8 col1\" >0.000610</td>\n",
       "                        <td id=\"T_69346043_534f_11ea_b190_f523e9aa0561row8_col2\" class=\"data row8 col2\" >0.000610</td>\n",
       "                        <td id=\"T_69346043_534f_11ea_b190_f523e9aa0561row8_col3\" class=\"data row8 col3\" >0.697350</td>\n",
       "                        <td id=\"T_69346043_534f_11ea_b190_f523e9aa0561row8_col4\" class=\"data row8 col4\" >0.000610</td>\n",
       "                        <td id=\"T_69346043_534f_11ea_b190_f523e9aa0561row8_col5\" class=\"data row8 col5\" >0.300200</td>\n",
       "                        <td id=\"T_69346043_534f_11ea_b190_f523e9aa0561row8_col6\" class=\"data row8 col6\" >3</td>\n",
       "            </tr>\n",
       "            <tr>\n",
       "                        <th id=\"T_69346043_534f_11ea_b190_f523e9aa0561level0_row9\" class=\"row_heading level0 row9\" >Doc9</th>\n",
       "                        <td id=\"T_69346043_534f_11ea_b190_f523e9aa0561row9_col0\" class=\"data row9 col0\" >0.000520</td>\n",
       "                        <td id=\"T_69346043_534f_11ea_b190_f523e9aa0561row9_col1\" class=\"data row9 col1\" >0.000520</td>\n",
       "                        <td id=\"T_69346043_534f_11ea_b190_f523e9aa0561row9_col2\" class=\"data row9 col2\" >0.000520</td>\n",
       "                        <td id=\"T_69346043_534f_11ea_b190_f523e9aa0561row9_col3\" class=\"data row9 col3\" >0.924720</td>\n",
       "                        <td id=\"T_69346043_534f_11ea_b190_f523e9aa0561row9_col4\" class=\"data row9 col4\" >0.000520</td>\n",
       "                        <td id=\"T_69346043_534f_11ea_b190_f523e9aa0561row9_col5\" class=\"data row9 col5\" >0.073200</td>\n",
       "                        <td id=\"T_69346043_534f_11ea_b190_f523e9aa0561row9_col6\" class=\"data row9 col6\" >3</td>\n",
       "            </tr>\n",
       "    </tbody></table>"
      ],
      "text/plain": [
       "<pandas.io.formats.style.Styler at 0x2a70a779220>"
      ]
     },
     "execution_count": 288,
     "metadata": {},
     "output_type": "execute_result"
    }
   ],
   "source": [
    "# Create Document - Topic Matrix\n",
    "#I choose model_list[2] where the number of topics is 6\n",
    "lda_output = model_list[2].transform(sg_vecs)\n",
    "\n",
    "# column names\n",
    "topicnames = [\"Topic\" + str(i) for i in range(model_list[2].n_components)]\n",
    "\n",
    "# index names\n",
    "docnames = [\"Doc\" + str(i) for i in range(len(sg_docs))]\n",
    "\n",
    "# Make the pandas dataframe\n",
    "df_document_topic = pd.DataFrame(np.round(lda_output, 5), columns=topicnames, index=docnames)\n",
    "\n",
    "# Get dominant topic for each document\n",
    "dominant_topic = np.argmax(df_document_topic.values, axis=1)\n",
    "df_document_topic['dominant_topic'] = dominant_topic\n",
    "\n",
    "# Styling\n",
    "def color_green(val):\n",
    "    color = 'green' if val > .1 else 'black'\n",
    "    return 'color: {col}'.format(col=color)\n",
    "\n",
    "def make_bold(val):\n",
    "    weight = 700 if val > .1 else 400\n",
    "    return 'font-weight: {weight}'.format(weight=weight)\n",
    "\n",
    "# Apply Style\n",
    "num_doc_to_show = 10  # change this to display the number of documents shown below\n",
    "df_document_topics = df_document_topic.head(num_doc_to_show).style.applymap(color_green).applymap(make_bold)\n",
    "df_document_topics"
   ]
  },
  {
   "cell_type": "markdown",
   "metadata": {},
   "source": [
    "### Save the Model\n",
    "\n",
    "Saving model for future use will save the time on the iterations. It is often needed to save to model to reuse in the future. "
   ]
  },
  {
   "cell_type": "code",
   "execution_count": 289,
   "metadata": {
    "collapsed": true
   },
   "outputs": [],
   "source": [
    "import joblib\n",
    "#Save a model to disk, or reload a pre-trained model\n",
    "\n",
    "sg_lda=model_list[1]\n",
    "joblib.dump(sg_lda, 'sg_lda.jl')\n",
    "\n",
    "# # then reload it with\n",
    "lda_disk = joblib.load('sg_lda.jl')"
   ]
  },
  {
   "cell_type": "markdown",
   "metadata": {},
   "source": [
    "### Save the LDA distributions theta and beta\n",
    "\n",
    "Saving the outputs to a csv file enables us to quickly analyse the data - mainly the topics in a friendly UI. We do not want to train the model every time as it may be expensive. "
   ]
  },
  {
   "cell_type": "code",
   "execution_count": 290,
   "metadata": {
    "collapsed": true
   },
   "outputs": [],
   "source": [
    "#Code to save theta\n",
    "import pandas as pd\n",
    "\n",
    "df_document_topic.to_csv(\"doc_topic.csv\")"
   ]
  },
  {
   "cell_type": "code",
   "execution_count": 292,
   "metadata": {
    "collapsed": true
   },
   "outputs": [],
   "source": [
    "# Write code here to save top 10 words for each topic (beta)\n",
    "top_words_per_topic = []\n",
    "    \n",
    "for topic_idx, topic in enumerate(sg_lda.components_):\n",
    "    topic_word_P = [(topic_idx, feature_names[i], topic[i]) for i in topic.argsort()[:-no_top_words - 1:-1]]\n",
    "    top_words_per_topic.extend(topic_word_P)\n",
    "\n",
    "pd.DataFrame(top_words_per_topic, columns=['Topic', 'Word', 'P']).to_csv(\"top_words.csv\")"
   ]
  },
  {
   "cell_type": "markdown",
   "metadata": {},
   "source": [
    "### Your Turn\n",
    "\n",
    "- You can also load a different document collection (e.g., a subset of the SGForum data or the review data we have provided for the project) and apply LDA to analyze the topics.\n",
    "\n",
    "- Let's use TestLDA folder for this exercise using the loaded model from disk (lda_disk).\n"
   ]
  },
  {
   "cell_type": "code",
   "execution_count": 293,
   "metadata": {},
   "outputs": [
    {
     "name": "stdout",
     "output_type": "stream",
     "text": [
      "test doc0: [3]\n",
      "test doc1: [0]\n",
      "test doc2: [0]\n",
      "test doc3: [1]\n",
      "test doc4: [3]\n",
      "test doc5: [3]\n",
      "test doc6: [1]\n",
      "test doc7: [1]\n",
      "test doc8: [0]\n",
      "test doc9: [0]\n",
      "test doc10: [1]\n",
      "test doc11: [1]\n",
      "test doc12: [3]\n",
      "test doc13: [1]\n",
      "test doc14: [2]\n",
      "test doc15: [2]\n",
      "test doc16: [0]\n",
      "test doc17: [3]\n"
     ]
    }
   ],
   "source": [
    "# Write your code here \n",
    "\n",
    "#Load the test corpus and convert to vectors\n",
    "\n",
    "test_corpus = preprocess2.load_corpus('./TestLDA')\n",
    "test_docs = preprocess2.corpus2docs(test_corpus)\n",
    "test_docs_joined = [\" \".join(x) for x in test_docs]\n",
    "\n",
    "test_vecs = vectorizer.fit_transform(test_docs_joined)\n",
    "\n",
    "# Call LDA model from disk print the topics for each document in the TestLDA\n",
    "\n",
    "for i in range(len(test_docs)):\n",
    "    output = lda_disk.fit_transform(test_vecs[i])\n",
    "    dominant_topic = np.argmax(output, axis=1)\n",
    "    print(\"test doc\" + str(i) + \": \" + str(dominant_topic))"
   ]
  },
  {
   "cell_type": "code",
   "execution_count": 294,
   "metadata": {},
   "outputs": [
    {
     "name": "stdout",
     "output_type": "stream",
     "text": [
      "[('habitat', 0.46016326536168023), ('quarrel', 0.4568306434895771), ('total', 0.45409139336942295), ('gesturing', 0.45318186326285953), ('need', 0.4529678925319288), ('third', 0.45271499039167723), ('declined', 0.4516998053626503), ('comes', 0.4479710692365799), ('erased', 0.44768504042744073), ('venture', 0.44733320290166956), ('holland', 0.4472841789337121), ('predict', 0.44652463714025614), ('although', 0.44560384042343726), ('primary', 0.4440811203140878), ('lies', 0.4438059082866153)]\n",
      "[('instantaneously', 0.47007883148312013), ('provide', 0.4662354858852942), ('fake', 0.4650636164076673), ('next', 0.46380448449590406), ('brand', 0.4634104158049788), ('units', 0.45556387087154837), ('patterns', 0.4551619775311624), ('used', 0.45336465346745114), ('responsible', 0.4511816663442851), ('quit', 0.45046894758526074), ('owner', 0.4484378346998931), ('ipads', 0.4475673624395058), ('demanded', 0.4474813086339944), ('catch', 0.446861698972778), ('versions', 0.44650597799439795)]\n"
     ]
    }
   ],
   "source": [
    "# Print the top words in the topics displayed above for test doc1 and test doc7. \n",
    "# Change the topic number accrodingly - the one with high probability\n",
    "\n",
    "feature_names = vectorizer.get_feature_names()\n",
    "\n",
    "lda_disk.fit_transform(test_vecs[1]) # change the doc number\n",
    "topic_highest_prob = lda_disk.components_[3]  # change the topic number\n",
    "print([(feature_names[i], topic_highest_prob[i]) for i in topic_highest_prob.argsort()[:-15 - 1:-1]])\n",
    "\n",
    "lda_disk.fit_transform(test_vecs[7]) # change the doc number\n",
    "topic_highest_prob = lda_disk.components_[1]  # change the topic number\n",
    "print([(feature_names[i], topic_highest_prob[i]) for i in topic_highest_prob.argsort()[:-15 - 1:-1]])"
   ]
  },
  {
   "cell_type": "markdown",
   "metadata": {},
   "source": [
    "#### Analysis\n",
    "Analyse the output with the actual documents. Are the topics relevant? Also use the most dominant topic and analyse."
   ]
  }
 ],
 "metadata": {
  "kernelspec": {
   "display_name": "Python 3 (ipykernel)",
   "language": "python",
   "name": "python3"
  },
  "language_info": {
   "codemirror_mode": {
    "name": "ipython",
    "version": 3
   },
   "file_extension": ".py",
   "mimetype": "text/x-python",
   "name": "python",
   "nbconvert_exporter": "python",
   "pygments_lexer": "ipython3",
   "version": "3.9.7"
  }
 },
 "nbformat": 4,
 "nbformat_minor": 2
}
