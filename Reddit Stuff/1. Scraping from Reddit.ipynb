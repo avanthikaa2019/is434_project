{
 "cells": [
  {
   "cell_type": "code",
   "execution_count": null,
   "id": "96efe031",
   "metadata": {},
   "outputs": [],
   "source": [
    "import pandas as pd\n",
    "import numpy as np\n",
    "import re\n",
    "\n",
    "import nltk\n",
    "from nltk.tokenize import word_tokenize\n",
    "from nltk.corpus import stopwords\n",
    "\n",
    "from string import punctuation\n",
    "\n",
    "import matplotlib.pyplot as plt\n",
    "%matplotlib inline\n",
    "\n",
    "import praw\n",
    "import pprint\n",
    "from datetime import datetime\n",
    "import time"
   ]
  },
  {
   "cell_type": "code",
   "execution_count": null,
   "id": "83972e1a",
   "metadata": {},
   "outputs": [],
   "source": [
    "reddit = praw.Reddit(user_agent='Comment Extraction (by /u/Extension_Dingo_1388)',\n",
    "                     client_id='B6xLdwKHWNW_TML-bSy4Hw', client_secret=\"VGTupPwaa12dBchyIvX9nqLiioZj6A\",\n",
    "                     username='Extension_Dingo_1388', password='Music@22')"
   ]
  },
  {
   "cell_type": "code",
   "execution_count": null,
   "id": "fd64414e",
   "metadata": {},
   "outputs": [],
   "source": [
    "list_of_subreddits = ['NFT', 'OpenSea', 'NFTExchange', 'CryptoArt', 'Decentraland', 'NFTmarket', 'NFTstocks', 'Rarible', 'Foundation', 'CardanoNFTs', 'SolanaNFTs' ]"
   ]
  },
  {
   "cell_type": "code",
   "execution_count": null,
   "id": "79c38144",
   "metadata": {
    "scrolled": true
   },
   "outputs": [],
   "source": [
    "for i in list_of_subreddits:\n",
    "    print(\"program started\", datetime.now())\n",
    "    start_time = time.time()\n",
    "    posts = []\n",
    "    sa_subreddit = reddit.subreddit(i)\n",
    "    error_list = []\n",
    "    error_count = 0\n",
    "\n",
    "    for post in sa_subreddit.top(limit=None):\n",
    "        try:\n",
    "            date_created = datetime.utcfromtimestamp(post.created_utc)\n",
    "            if date_created.year <2021:\n",
    "                print(\"entered year break\")\n",
    "                break #check if its break/continue\n",
    "            posts.append([post.subreddit, post.title, post.selftext, post.id, date_created, post.author, post.link_flair_richtext, post.permalink, post.ups, post.downs, post.num_comments,post.score , post.total_awards_received, post.id,  \"post\"])\n",
    "            post.comments.replace_more(limit=0) #goes through all the comments without stopping at the 'more comment'\n",
    "            for comment in post.comments.list():\n",
    "                date_created_comment = datetime.utcfromtimestamp(comment.created_utc)\n",
    "                posts.append([comment.subreddit, \"\", comment.body, comment.id, date_created_comment, comment.author, comment.author_flair_richtext, comment.permalink, comment.ups, comment.downs, \"\", comment.score , comment.total_awards_received, comment._submission, \"comment\"])\n",
    "        except Exception as e :\n",
    "            error_count += 1\n",
    "            #print(\"layer 1\" ,e)\n",
    "            try:\n",
    "                error_list.append([post.permalink, comment.permalink, comment.id])\n",
    "            except:\n",
    "                #print(\"layer 2\" ,e)\n",
    "                try:\n",
    "                    error_list.append([post.permalink, post.id])\n",
    "                except:\n",
    "                    #print(\"layer 3\" ,e)\n",
    "                    pass\n",
    "\n",
    "    print(\"error count is\", error_count,)\n",
    "    print(\"run time is\", time.time()-start_time)\n",
    "    \n",
    "    print(i, \"num posts is\" , len(posts))\n",
    "    posts_df = pd.DataFrame(posts,columns=['subreddit', 'title', 'selftext', 'id', 'date_created', 'author', 'link_flair_richtext', 'permalink', 'ups', 'downs', 'num_comments', 'score' , 'total_awards_received', 'submission', 'p or c'])\n",
    "    posts_df.to_csv(\"dataset/\"+str(i)+\"_top.csv\",index = False)\n"
   ]
  },
  {
   "cell_type": "code",
   "execution_count": 14,
   "id": "dbfdab9e",
   "metadata": {},
   "outputs": [
    {
     "name": "stderr",
     "output_type": "stream",
     "text": [
      "/var/folders/39/d8tcqgqj7mv7xyp9q2m1m3x80000gn/T/ipykernel_39436/2681320716.py:25: DtypeWarning: Columns (1,2,3,4,5,6,7,8,9,10,11,12,13,14) have mixed types. Specify dtype option on import or set low_memory=False.\n",
      "  solo_csv = pd.read_csv(csv_path,index_col=None,header = None, on_bad_lines='skip')\n"
     ]
    }
   ],
   "source": [
    "import os\n",
    "import pandas as pd\n",
    "checklist = ['NFTmarket_top.csv',\n",
    " 'Foundation_top.csv',\n",
    " 'NFTstocks_top.csv',\n",
    " 'Rarible_top.csv',\n",
    " 'OpenSea_top.csv',\n",
    " 'CardanoNFTs_top.csv',\n",
    " 'NFTArt_Finance_top.csv',\n",
    " 'Decentraland_top.csv',\n",
    " 'NFT_top.csv',\n",
    " 'NFTExchange_top.csv',\n",
    " 'CryptoArt_top.csv',\n",
    " 'SolanaNFTs_top.csv']\n",
    "# newlist=[]\n",
    "\n",
    "def stackcsv(content_folder):\n",
    "    global combined_csv\n",
    "    combined_csv= []\n",
    "    entries = os.listdir(content_folder)\n",
    "    for i in entries:\n",
    "        if i in checklist:\n",
    "#             newlist.append(i)\n",
    "            csv_path = os.path.join(content_folder, i)\n",
    "            solo_csv = pd.read_csv(csv_path,index_col=None,header = None, on_bad_lines='skip')\n",
    "            combined_csv.append(solo_csv)\n",
    "#     return newlist  \n",
    "    csv_final = pd.concat(combined_csv,axis = 0,sort = False)\n",
    "    return csv_final.to_csv(\"combined_top_data.csv\", header = None)\n",
    "\n",
    "stackcsv('dataset')"
   ]
  },
  {
   "cell_type": "code",
   "execution_count": 20,
   "id": "6e570f23",
   "metadata": {},
   "outputs": [
    {
     "name": "stdout",
     "output_type": "stream",
     "text": [
      "644 NFTmarket_top.csv\n",
      "4085 Foundation_top.csv\n",
      "1187 NFTstocks_top.csv\n",
      "597 Rarible_top.csv\n",
      "55750 OpenSea_top.csv\n",
      "7475 CardanoNFTs_top.csv\n",
      "10487 NFTArt_Finance_top.csv\n",
      "8315 Decentraland_top.csv\n",
      "16382 NFT_top.csv\n",
      "30032 NFTExchange_top.csv\n",
      "3839 CryptoArt_top.csv\n",
      "218 SolanaNFTs_top.csv\n",
      "139011\n"
     ]
    }
   ],
   "source": [
    "import csv\n",
    "\n",
    "checklist = ['NFTmarket_top.csv',\n",
    " 'Foundation_top.csv',\n",
    " 'NFTstocks_top.csv',\n",
    " 'Rarible_top.csv',\n",
    " 'OpenSea_top.csv',\n",
    " 'CardanoNFTs_top.csv',\n",
    " 'NFTArt_Finance_top.csv',\n",
    " 'Decentraland_top.csv',\n",
    " 'NFT_top.csv',\n",
    " 'NFTExchange_top.csv',\n",
    " 'CryptoArt_top.csv',\n",
    " 'SolanaNFTs_top.csv']\n",
    "x = 0\n",
    "for i in checklist:\n",
    "    inputfile=open(\"dataset/\"+str(i), \"r+\")\n",
    "    reader_file = csv.reader(inputfile)\n",
    "    value = len(list(reader_file))\n",
    "    print(value , i)\n",
    "    x+= value\n",
    "print(x)\n",
    "    "
   ]
  },
  {
   "cell_type": "code",
   "execution_count": 21,
   "id": "61e87262",
   "metadata": {},
   "outputs": [
    {
     "name": "stdout",
     "output_type": "stream",
     "text": [
      "325133\n"
     ]
    }
   ],
   "source": [
    "inputfile=open(\"combined_top_data.csv\", \"r+\")\n",
    "reader_file = csv.reader(inputfile)\n",
    "value = len(list(reader_file))\n",
    "print(value)"
   ]
  },
  {
   "cell_type": "code",
   "execution_count": null,
   "id": "f816fa73",
   "metadata": {},
   "outputs": [],
   "source": []
  },
  {
   "cell_type": "markdown",
   "id": "0de2332f",
   "metadata": {},
   "source": [
    "references:\n",
    "\n",
    "https://stackoverflow.com/questions/60489485/stackig-vertically-csv-files-with-pandas-in-python \n"
   ]
  }
 ],
 "metadata": {
  "kernelspec": {
   "display_name": "Python 3 (ipykernel)",
   "language": "python",
   "name": "python3"
  },
  "language_info": {
   "codemirror_mode": {
    "name": "ipython",
    "version": 3
   },
   "file_extension": ".py",
   "mimetype": "text/x-python",
   "name": "python",
   "nbconvert_exporter": "python",
   "pygments_lexer": "ipython3",
   "version": "3.10.2"
  }
 },
 "nbformat": 4,
 "nbformat_minor": 5
}
