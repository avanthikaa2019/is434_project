{
 "cells": [
  {
   "cell_type": "code",
   "execution_count": 154,
   "id": "cf72ccba",
   "metadata": {},
   "outputs": [],
   "source": [
    "import pandas as pd\n",
    "import numpy as np\n",
    "import re\n",
    "\n",
    "import nltk\n",
    "from nltk.tokenize import word_tokenize\n",
    "from nltk.corpus import stopwords\n",
    "\n",
    "\n",
    "from string import punctuation"
   ]
  },
  {
   "cell_type": "code",
   "execution_count": 155,
   "id": "bc0d3f62",
   "metadata": {},
   "outputs": [],
   "source": [
    "df = pd.read_csv('dataset/SolanaNFTs_top.csv', lineterminator='\\n')"
   ]
  },
  {
   "cell_type": "code",
   "execution_count": 156,
   "id": "8ce25ebb",
   "metadata": {},
   "outputs": [],
   "source": [
    "##Step 1: Remove lines where comments says -removed or deleted or NaN\n",
    "\n",
    "# get and remove rows where comment has [removed]\n",
    "mask_removed = df['title'] == '[removed]'\n",
    "df = df.loc[~mask_removed,:].reset_index(drop = True)\n",
    "\n",
    "# get and remove rows where comment has [deleted]\n",
    "mask_deleted = df['title']== '[deleted]'\n",
    "df = df.loc[~mask_deleted,:].reset_index(drop = True)\n",
    "\n",
    "mask_NaN = df['title'] == 'NaN'\n",
    "df = df.loc[~mask_NaN,:].reset_index(drop = True)"
   ]
  },
  {
   "cell_type": "code",
   "execution_count": 157,
   "id": "3b2a23d0",
   "metadata": {},
   "outputs": [],
   "source": [
    "##Step 2: Convert to lower case\n",
    "\n",
    "# Convert messages to lower case\n",
    "df['title']= df['title'].astype(str).map(lambda x: x.lower())\n",
    "df['selftext'] = df['selftext'].astype(str).map(lambda x: x.lower())"
   ]
  },
  {
   "cell_type": "code",
   "execution_count": 158,
   "id": "aeca602b",
   "metadata": {},
   "outputs": [],
   "source": [
    "##Step 3: Replace newline and carriage return characters\n",
    "\n",
    "def replace_newline(s):\n",
    "    s = re.sub('\\n', ' ',s)\n",
    "    s = re.sub(\"\\r\", ' ',s)\n",
    "    return s\n",
    "\n",
    "df['title'] = df['title'].map(replace_newline)\n",
    "df['selftext'] = df['selftext'].map(replace_newline)"
   ]
  },
  {
   "cell_type": "code",
   "execution_count": 159,
   "id": "2dab42f8",
   "metadata": {},
   "outputs": [],
   "source": [
    "##Step 4: Replace common english slang with full words\n",
    "\n",
    "def replace_slang(s):\n",
    "    '''replace commonly used phrases with the full thing'''\n",
    "    to_replace = [\"i'd\", \"you'd\", \"we'd\",\"they'd\", \"i'll\", \"you'll\", \"we'll\", \"they'll\", \"i'm\",\n",
    "                  \"y'all\", \"you're\", \"we're\", \"they're\", \"i've\", \"you've\", \"we've\", \"they've\", \"didn't\", \"shouldn't\",\n",
    "                 \"couldn't\", \"wouldn't\", \"won't\", \"can't\", \"mustn't\", \"ain't\", \"isn't\", \"that's\", \"doesn't\", \"it'd\",\n",
    "                  \"it'll\", \"/month\", \"/ month\", \"don't\", \"there's\", \"it's\", \"imo\"]\n",
    "    \n",
    "    replace_with = [\"i would\", \"you would\", \"we would\", \"they would\", \"i will\", \"you will\", \"we will\", \"they will\",\n",
    "                   \"i am\", \"you all\", \"you are\", \"we are\", \"they are\", \"i have\", \"you have\", \"we have\", \"they have\", \n",
    "                    \"did not\", \"should not\", \"could not\", \"would not\", \"will not\", \"cannot\", \"must not\", \"am not\", \"is not\",\n",
    "                   \"that is\", \"does not\", \"it would\", \"it will\", \"per month\", \"per month\", \"do not\", \"there is\", \"it is\",\n",
    "                   \"in my opinion\"]\n",
    "    \n",
    "    for i in range(len(to_replace)):\n",
    "        s = re.sub(r\"\\b%s\\b\" %to_replace[i], replace_with[i], s)\n",
    "    \n",
    "    return s\n",
    "\n",
    "df['title'] = df['title'].map(replace_slang)\n",
    "df['selftext'] = df['selftext'].map(replace_slang)"
   ]
  },
  {
   "cell_type": "code",
   "execution_count": 160,
   "id": "e6222e07",
   "metadata": {},
   "outputs": [],
   "source": [
    "##Step 5: Remove urls\n",
    "\n",
    "# remove websites from comments\n",
    "def remove_urls(s):\n",
    "    s = re.sub(\"http[^\\s]+\", \" \", s)\n",
    "    s = re.sub(\"https[^\\s]+\", \" \", s)\n",
    "    s = re.sub(\"[^\\s]+\\.us[^\\s]+\", \" \", s)\n",
    "    s = re.sub(\"[^\\s]+\\.co.uk[^\\s]+\", \" \", s)\n",
    "    s = re.sub(\"[^\\s]+\\.com[^\\s]+\", \" \", s)\n",
    "    s = re.sub(\" +\", \" \", s)\n",
    "    return s\n",
    "\n",
    "df['title'] = df['title'].map(remove_urls)\n",
    "df['selftext'] = df['selftext'].map(remove_urls)"
   ]
  },
  {
   "cell_type": "code",
   "execution_count": 161,
   "id": "97ab9cdd",
   "metadata": {},
   "outputs": [],
   "source": [
    "##Step 6: Change encoding to utf-8 to remove some unknown characters that have creeped into the comments\n",
    "\n",
    "def encode_decode(s):\n",
    "    s = s.encode('ascii', errors = 'ignore').decode('utf-8')\n",
    "    return s\n",
    "\n",
    "# remove unknown characters\n",
    "df['title'] = df['title'].map(encode_decode)\n",
    "df['selftext'] = df['selftext'].map(encode_decode)"
   ]
  },
  {
   "cell_type": "code",
   "execution_count": 162,
   "id": "8c88483c",
   "metadata": {},
   "outputs": [],
   "source": [
    "##Step 7: Remove apostrophes, stars () and extra spaces*\n",
    "\n",
    "# remove apostrophes\n",
    "def remove_apostrophe(s):\n",
    "    s = re.sub(\"'\", '',s)\n",
    "    s = re.sub(\"\\\"\", \"\", s)\n",
    "    s = re.sub(\"\\*\", \" \", s)\n",
    "    s = re.sub(\"&gt;\", \" \", s)\n",
    "    s = re.sub(\"&gt\", \" \", s)\n",
    "    s = re.sub(\"&amp;#37;\", \"%\", s)\n",
    "    s = re.sub(\"&amp;\", \"&\", s)\n",
    "    s = re.sub(\" +\", \" \", s)\n",
    "    s = s.rstrip().lstrip()\n",
    "    return s\n",
    "\n",
    "# remove apostrophe\n",
    "df['title'] = df['title'].map(remove_apostrophe)\n",
    "df['selftext'] = df['selftext'].map(remove_apostrophe)"
   ]
  },
  {
   "cell_type": "code",
   "execution_count": 163,
   "id": "ec771680",
   "metadata": {},
   "outputs": [],
   "source": [
    "##Step 8: Some slangs weren't caught last time.\n",
    "\n",
    "def replace_slang_again(s):\n",
    "    '''replace commonly used phrases with the full thing'''\n",
    "    to_replace = [\"id\", \"youd\", \"theyd\", \"youll\", \"they'll\", \"im\",\n",
    "                  \"yall\", \"youre\", \"theyre\", \"ive\", \"youve\", \"weve\", \"theyve\", \"didnt\", \"shouldnt\",\n",
    "                 \"couldnt\", \"wouldnt\", \"wont\", \"cant\", \"mustnt\", \"aint\", \"isnt\", \"thats\", \"doesnt\", \"itd\", \"ill\", \"w/ live\",\n",
    "                 \"w/live\", \"w/no\", \"itll\", \"/ month\", \"/month\", \"w/ no\", \"dont\", \"theres\", \"at&amp;t\", \"its\"]\n",
    "    \n",
    "    replace_with = [\"i would\", \"you would\", \"they would\", \"you will\", \"they will\",\n",
    "                   \"i am\", \"you all\", \"you are\", \"they are\", \"i have\", \"you have\", \"we have\", \"they have\", \n",
    "                    \"did not\", \"should not\", \"could not\", \"would not\", \"will not\", \"cannot\", \"must not\", \"am not\",\n",
    "                   \"is not\", \"that is\", \"does not\", \"it would\", \"i will\", \"with live\", \"with live\", \"with no\", \"it will\",\n",
    "                   \"per month\", \"per month\", \"with no\", \"do not\", \"there is\", \"att\" ,\"it is\"]\n",
    "    \n",
    "    for i in range(len(to_replace)):\n",
    "        s = re.sub(r\"\\b%s\\b\" %to_replace[i], replace_with[i], s)\n",
    "    \n",
    "    return s\n",
    "\n",
    "df['title'] = df['title'].map(replace_slang_again)\n",
    "df['selftext'] = df['selftext'].map(replace_slang_again)"
   ]
  },
  {
   "cell_type": "code",
   "execution_count": 164,
   "id": "426d95d1",
   "metadata": {},
   "outputs": [],
   "source": [
    "##Step 9: Remove parantheses\n",
    "\n",
    "# remove apostrophes\n",
    "def remove_parantheses(s):\n",
    "    s = re.sub(\"\\(\", ' ',s)\n",
    "    s = re.sub(\"\\[\", ' ',s)\n",
    "    s = re.sub(\"]\", ' ',s)\n",
    "    s = re.sub(\"\\|\", ' ', s)\n",
    "    s = re.sub(\"\\)\", \" \", s)\n",
    "    s = re.sub(\"\\^\", \" \", s)\n",
    "    s = re.sub(\"#\", \" \", s)\n",
    "    s = re.sub(\" +\", \" \", s)\n",
    "    s = s.rstrip().lstrip()\n",
    "    return s\n",
    "\n",
    "# remove apostrophe\n",
    "df['title'] = df['title'].map(remove_parantheses)\n",
    "df['selftext'] = df['selftext'].map(remove_parantheses)"
   ]
  },
  {
   "cell_type": "code",
   "execution_count": 165,
   "id": "238e0084",
   "metadata": {},
   "outputs": [],
   "source": [
    "##Step 10: Add space after full stops where it is directly followed by a character other than a space\n",
    "\n",
    "# Many comments have full stops not followed by any spaces. Lets correct this.\n",
    "def fullstop_space(s):\n",
    "    s = re.sub(r'(?<=[.,])(?=[^\\s\\.[0-9]])', r' ', s)\n",
    "    return s\n",
    "\n",
    "df['title'] = df['title'].map(fullstop_space)\n",
    "df['selftext'] = df['selftext'].map(fullstop_space)"
   ]
  },
  {
   "cell_type": "code",
   "execution_count": 166,
   "id": "f39316ad",
   "metadata": {},
   "outputs": [],
   "source": [
    "##Step 11: Remove empty comments\n",
    "# These are comments that had just an unknown character in them\n",
    "\n",
    "mask_empty = df['title'] == ''\n",
    "mask_empty = df['selftext'] == ''\n",
    "df = df.loc[~mask_empty, :]"
   ]
  },
  {
   "cell_type": "code",
   "execution_count": 167,
   "id": "4fd44de0",
   "metadata": {},
   "outputs": [],
   "source": [
    "df.to_csv('dataset/preproc_SolanaNFTs_top.csv', index = False)"
   ]
  },
  {
   "cell_type": "code",
   "execution_count": 188,
   "id": "c82efc27",
   "metadata": {},
   "outputs": [
    {
     "data": {
      "text/plain": [
       "(217, 15)"
      ]
     },
     "execution_count": 188,
     "metadata": {},
     "output_type": "execute_result"
    }
   ],
   "source": [
    "df = pd.read_csv('dataset/SolanaNFTs_top.csv', lineterminator='\\n')\n",
    "# df = df.drop(columns=['Unnamed: 0'])\n",
    "df.shape"
   ]
  },
  {
   "cell_type": "code",
   "execution_count": null,
   "id": "dfdebc26",
   "metadata": {},
   "outputs": [],
   "source": []
  }
 ],
 "metadata": {
  "kernelspec": {
   "display_name": "Python 3 (ipykernel)",
   "language": "python",
   "name": "python3"
  },
  "language_info": {
   "codemirror_mode": {
    "name": "ipython",
    "version": 3
   },
   "file_extension": ".py",
   "mimetype": "text/x-python",
   "name": "python",
   "nbconvert_exporter": "python",
   "pygments_lexer": "ipython3",
   "version": "3.10.2"
  }
 },
 "nbformat": 4,
 "nbformat_minor": 5
}
