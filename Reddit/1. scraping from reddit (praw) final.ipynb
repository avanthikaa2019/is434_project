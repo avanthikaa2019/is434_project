{
 "cells": [
  {
   "cell_type": "code",
   "execution_count": 1,
   "id": "96efe031",
   "metadata": {},
   "outputs": [],
   "source": [
    "import pandas as pd\n",
    "import numpy as np\n",
    "import re\n",
    "\n",
    "import nltk\n",
    "from nltk.tokenize import word_tokenize\n",
    "from nltk.corpus import stopwords\n",
    "\n",
    "from string import punctuation\n",
    "\n",
    "import matplotlib.pyplot as plt\n",
    "%matplotlib inline\n",
    "\n",
    "import praw\n",
    "import pprint\n",
    "from datetime import datetime\n",
    "import time\n",
    "\n",
    "import os, glob"
   ]
  },
  {
   "cell_type": "code",
   "execution_count": null,
   "id": "83972e1a",
   "metadata": {},
   "outputs": [],
   "source": [
    "reddit = praw.Reddit(user_agent='Comment Extraction (by /u/Extension_Dingo_1388)',\n",
    "                     client_id='xxxx', client_secret=\"xxxx\",\n",
    "                     username='xxxx', password='xxxx')"
   ]
  },
  {
   "cell_type": "code",
   "execution_count": null,
   "id": "fd64414e",
   "metadata": {},
   "outputs": [],
   "source": [
    "list_of_subreddits = ['NFT', 'OpenSea', 'NFTExchange', 'CryptoArt', 'Decentraland', 'NFTmarket', 'NFTstocks', 'Rarible', 'Foundation', 'CardanoNFTs', 'SolanaNFTs', 'NFTArt_Financ'e ]"
   ]
  },
  {
   "cell_type": "code",
   "execution_count": null,
   "id": "79c38144",
   "metadata": {
    "scrolled": true
   },
   "outputs": [],
   "source": [
    "for i in list_of_subreddits:\n",
    "    print(\"program started\", datetime.now())\n",
    "    start_time = time.time()\n",
    "    posts = []\n",
    "    sa_subreddit = reddit.subreddit(i)\n",
    "    error_list = []\n",
    "    error_count = 0\n",
    "\n",
    "    for post in sa_subreddit.top(limit=None):\n",
    "        try:\n",
    "            date_created = datetime.utcfromtimestamp(post.created_utc)\n",
    "            if date_created.year <2021:\n",
    "                print(\"entered year break\")\n",
    "                break #check if its break/continue\n",
    "            posts.append([post.subreddit, post.title, post.selftext, post.id, date_created, post.author, post.link_flair_richtext, post.permalink, post.ups, post.downs, post.num_comments,post.score , post.total_awards_received, post.id,  \"post\"])\n",
    "            post.comments.replace_more(limit=0) #goes through all the comments without stopping at the 'more comment'\n",
    "            for comment in post.comments.list():\n",
    "                date_created_comment = datetime.utcfromtimestamp(comment.created_utc)\n",
    "                posts.append([comment.subreddit, \"\", comment.body, comment.id, date_created_comment, comment.author, comment.author_flair_richtext, comment.permalink, comment.ups, comment.downs, \"\", comment.score , comment.total_awards_received, comment._submission, \"comment\"])\n",
    "        except Exception as e :\n",
    "            error_count += 1\n",
    "            #print(\"layer 1\" ,e)\n",
    "            try:\n",
    "                error_list.append([post.permalink, comment.permalink, comment.id])\n",
    "            except:\n",
    "                #print(\"layer 2\" ,e)\n",
    "                try:\n",
    "                    error_list.append([post.permalink, post.id])\n",
    "                except:\n",
    "                    #print(\"layer 3\" ,e)\n",
    "                    pass\n",
    "\n",
    "    print(\"error count is\", error_count,)\n",
    "    print(\"run time is\", time.time()-start_time)\n",
    "    \n",
    "    print(i, \"num posts is\" , len(posts))\n",
    "    posts_df = pd.DataFrame(posts,columns=['subreddit', 'title', 'selftext', 'id', 'date_created', 'author', 'link_flair_richtext', 'permalink', 'ups', 'downs', 'num_comments', 'score' , 'total_awards_received', 'submission', 'p or c'])\n",
    "    posts_df.to_csv(\"dataset/\"+str(i)+\"_top.csv\",index = False)\n"
   ]
  },
  {
   "cell_type": "code",
   "execution_count": null,
   "id": "9d04e38a",
   "metadata": {},
   "outputs": [],
   "source": [
    "path = \"dataset/\"\n",
    "\n",
    "all_files = glob.glob(os.path.join(path, \"*_top.csv\"))\n",
    "df_from_each_file = (pd.read_csv(f, sep=',') for f in all_files)\n",
    "df_merged   = pd.concat(df_from_each_file, ignore_index=True)"
   ]
  },
  {
   "cell_type": "code",
   "execution_count": null,
   "id": "759a1465",
   "metadata": {},
   "outputs": [],
   "source": [
    "df_merged_2 = df_merged.dropna(subset=['p or c'])\n",
    "df_merged_2"
   ]
  },
  {
   "cell_type": "code",
   "execution_count": null,
   "id": "8c9dac4a",
   "metadata": {},
   "outputs": [],
   "source": [
    "df_merged_2.to_csv( \"merged_raw_2.csv\",index= False)"
   ]
  },
  {
   "cell_type": "code",
   "execution_count": 13,
   "id": "b24e1494",
   "metadata": {},
   "outputs": [
    {
     "data": {
      "text/plain": [
       "(138989, 15)"
      ]
     },
     "execution_count": 13,
     "metadata": {},
     "output_type": "execute_result"
    }
   ],
   "source": [
    "df = pd.read_csv('merged_raw_2.csv', lineterminator='\\n')\n",
    "r_list = df.values.tolist()\n",
    "for i in r_list:\n",
    "    i[14]=i[14].rstrip(\"\\r\")\n",
    "df = pd.DataFrame(r_list, columns = ['subreddit', 'title', 'selftext', 'id', 'date_created',\n",
    "       'author', 'link_flair_richtext', 'permalink', 'ups', 'downs',\n",
    "       'num_comments', 'score', 'total_awards_received', 'submission',\n",
    "       'p or c'])\n",
    "df\n",
    "df.shape"
   ]
  },
  {
   "cell_type": "markdown",
   "id": "0de2332f",
   "metadata": {},
   "source": [
    "references:\n",
    "\n",
    "https://stackoverflow.com/questions/60489485/stackig-vertically-csv-files-with-pandas-in-python \n"
   ]
  }
 ],
 "metadata": {
  "kernelspec": {
   "display_name": "Python 3 (ipykernel)",
   "language": "python",
   "name": "python3"
  },
  "language_info": {
   "codemirror_mode": {
    "name": "ipython",
    "version": 3
   },
   "file_extension": ".py",
   "mimetype": "text/x-python",
   "name": "python",
   "nbconvert_exporter": "python",
   "pygments_lexer": "ipython3",
   "version": "3.9.7"
  }
 },
 "nbformat": 4,
 "nbformat_minor": 5
}
